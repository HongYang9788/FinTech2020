{
 "cells": [
  {
   "cell_type": "code",
   "execution_count": 9,
   "metadata": {},
   "outputs": [],
   "source": [
    "# R08631011\n",
    "def numofEdge(args):\n",
    "    a,b,c,d,e,f,g = args\n",
    "    edges = 1*(a+b+c+d) + (a+b+c)*e + (c+d)*f + e*g + (g+f)*1\n",
    "    print(\"Number of edges:\", edges)\n",
    "    return edges\n",
    "\n",
    "def numofPath(args):\n",
    "    a,b,c,d,e,f,g = args\n",
    "    paths = 1*g*e*(a+b+c)*1 + 1*f*(c+d)*1\n",
    "    print(\"Number of paths:\", paths)\n",
    "    return paths"
   ]
  },
  {
   "cell_type": "code",
   "execution_count": 10,
   "metadata": {},
   "outputs": [
    {
     "name": "stdout",
     "output_type": "stream",
     "text": [
      "1\n",
      "5\n",
      "9\n",
      "4\n",
      "7\n",
      "3\n",
      "8\n",
      "Number of edges: 230\n",
      "Number of paths: 879\n"
     ]
    }
   ],
   "source": [
    "if __name__ == '__main__':\n",
    "    args = [int(input(\"\")) for i in range(7)]\n",
    "    edge = numofEdge(args)\n",
    "    path = numofPath(args)"
   ]
  },
  {
   "cell_type": "code",
   "execution_count": null,
   "metadata": {},
   "outputs": [],
   "source": []
  }
 ],
 "metadata": {
  "kernelspec": {
   "display_name": "Python 3",
   "language": "python",
   "name": "python3"
  },
  "language_info": {
   "codemirror_mode": {
    "name": "ipython",
    "version": 3
   },
   "file_extension": ".py",
   "mimetype": "text/x-python",
   "name": "python",
   "nbconvert_exporter": "python",
   "pygments_lexer": "ipython3",
   "version": "3.7.1"
  }
 },
 "nbformat": 4,
 "nbformat_minor": 2
}
